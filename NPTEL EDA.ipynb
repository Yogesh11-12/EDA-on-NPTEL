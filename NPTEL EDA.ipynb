{
 "cells": [
  {
   "cell_type": "markdown",
   "metadata": {},
   "source": [
    "## EDA on NPTEL Dataset"
   ]
  },
  {
   "cell_type": "markdown",
   "metadata": {},
   "source": [
    "### Import important library"
   ]
  },
  {
   "cell_type": "code",
   "execution_count": 38,
   "metadata": {},
   "outputs": [],
   "source": [
    "import pandas as pd\n",
    "import numpy as np\n",
    "import seaborn as sns\n",
    "import matplotlib.pyplot as plt"
   ]
  },
  {
   "cell_type": "code",
   "execution_count": 15,
   "metadata": {},
   "outputs": [],
   "source": [
    "# load datset usinf pandas\n",
    "df=pd.read_excel('SWAYAM-NPTEL Local Chapter (6).xlsx')"
   ]
  },
  {
   "cell_type": "code",
   "execution_count": 16,
   "metadata": {},
   "outputs": [
    {
     "data": {
      "text/html": [
       "<div>\n",
       "<style scoped>\n",
       "    .dataframe tbody tr th:only-of-type {\n",
       "        vertical-align: middle;\n",
       "    }\n",
       "\n",
       "    .dataframe tbody tr th {\n",
       "        vertical-align: top;\n",
       "    }\n",
       "\n",
       "    .dataframe thead th {\n",
       "        text-align: right;\n",
       "    }\n",
       "</style>\n",
       "<table border=\"1\" class=\"dataframe\">\n",
       "  <thead>\n",
       "    <tr style=\"text-align: right;\">\n",
       "      <th></th>\n",
       "      <th>S.no</th>\n",
       "      <th>Name</th>\n",
       "      <th>Emailid</th>\n",
       "      <th>Role</th>\n",
       "      <th>College Roll Number</th>\n",
       "      <th>Degree</th>\n",
       "      <th>Department</th>\n",
       "      <th>Study year</th>\n",
       "      <th>Exam Date</th>\n",
       "      <th>Course Name</th>\n",
       "      <th>Course id</th>\n",
       "      <th>State</th>\n",
       "      <th>City</th>\n",
       "      <th>PWD status</th>\n",
       "      <th>SC/ST status</th>\n",
       "      <th>FDP status</th>\n",
       "      <th>Amount</th>\n",
       "      <th>Status</th>\n",
       "    </tr>\n",
       "  </thead>\n",
       "  <tbody>\n",
       "    <tr>\n",
       "      <th>0</th>\n",
       "      <td>1</td>\n",
       "      <td>vinay krishna</td>\n",
       "      <td>2000520400061@ietlucknow.ac.in</td>\n",
       "      <td>student</td>\n",
       "      <td>2.000520e+12</td>\n",
       "      <td>btech</td>\n",
       "      <td>mechanical_engineering</td>\n",
       "      <td>year_1</td>\n",
       "      <td>2021-04-24</td>\n",
       "      <td>Rocket Propulsion</td>\n",
       "      <td>ns_noc21_ae01</td>\n",
       "      <td>Uttar Pradesh</td>\n",
       "      <td>Lucknow</td>\n",
       "      <td>No</td>\n",
       "      <td>False</td>\n",
       "      <td>False</td>\n",
       "      <td>1000</td>\n",
       "      <td>payment_pending</td>\n",
       "    </tr>\n",
       "    <tr>\n",
       "      <th>1</th>\n",
       "      <td>2</td>\n",
       "      <td>APARNA SHARMA</td>\n",
       "      <td>1705231013@ietlucknow.ac.in</td>\n",
       "      <td>student</td>\n",
       "      <td>1.705231e+09</td>\n",
       "      <td>btech</td>\n",
       "      <td>electronics_and_communication_engineering</td>\n",
       "      <td>year_4</td>\n",
       "      <td>2021-03-21</td>\n",
       "      <td>Introduction to History of Architecture in India</td>\n",
       "      <td>ns_noc21_ar04</td>\n",
       "      <td>Uttar Pradesh</td>\n",
       "      <td>Lucknow</td>\n",
       "      <td>No</td>\n",
       "      <td>False</td>\n",
       "      <td>False</td>\n",
       "      <td>1000</td>\n",
       "      <td>payment_failed</td>\n",
       "    </tr>\n",
       "    <tr>\n",
       "      <th>2</th>\n",
       "      <td>3</td>\n",
       "      <td>AMAN YADAV</td>\n",
       "      <td>2000520519002@ietlucknow.ac.in</td>\n",
       "      <td>student</td>\n",
       "      <td>2.000521e+12</td>\n",
       "      <td>btech</td>\n",
       "      <td>chemical_engineering</td>\n",
       "      <td>year_2</td>\n",
       "      <td>2021-04-24</td>\n",
       "      <td>Material and Energy Balances</td>\n",
       "      <td>ns_noc21_bt04</td>\n",
       "      <td>Uttar Pradesh</td>\n",
       "      <td>Kanpur</td>\n",
       "      <td>No</td>\n",
       "      <td>False</td>\n",
       "      <td>False</td>\n",
       "      <td>1000</td>\n",
       "      <td>payment_failed</td>\n",
       "    </tr>\n",
       "    <tr>\n",
       "      <th>3</th>\n",
       "      <td>4</td>\n",
       "      <td>Israrul Hasan Hashmi</td>\n",
       "      <td>2000520519003@ietlucknow.ac.in</td>\n",
       "      <td>student</td>\n",
       "      <td>2.000521e+12</td>\n",
       "      <td>btech</td>\n",
       "      <td>chemical_engineering</td>\n",
       "      <td>year_2</td>\n",
       "      <td>2021-04-24</td>\n",
       "      <td>Material and Energy Balances</td>\n",
       "      <td>ns_noc21_bt04</td>\n",
       "      <td>Uttar Pradesh</td>\n",
       "      <td>Kanpur</td>\n",
       "      <td>No</td>\n",
       "      <td>False</td>\n",
       "      <td>False</td>\n",
       "      <td>1000</td>\n",
       "      <td>payment_failed</td>\n",
       "    </tr>\n",
       "    <tr>\n",
       "      <th>4</th>\n",
       "      <td>5</td>\n",
       "      <td>UPEKSHA</td>\n",
       "      <td>1805251060@ietlucknow.ac.in</td>\n",
       "      <td>student</td>\n",
       "      <td>1.805251e+09</td>\n",
       "      <td>btech</td>\n",
       "      <td>chemical_engineering</td>\n",
       "      <td>year_3</td>\n",
       "      <td>2021-04-24</td>\n",
       "      <td>Aspects Of Biochemical Engineering</td>\n",
       "      <td>ns_noc21_bt17</td>\n",
       "      <td>Uttar Pradesh</td>\n",
       "      <td>Lucknow</td>\n",
       "      <td>No</td>\n",
       "      <td>True</td>\n",
       "      <td>False</td>\n",
       "      <td>500</td>\n",
       "      <td>payment_draft</td>\n",
       "    </tr>\n",
       "  </tbody>\n",
       "</table>\n",
       "</div>"
      ],
      "text/plain": [
       "   S.no                  Name                         Emailid     Role  \\\n",
       "0     1         vinay krishna  2000520400061@ietlucknow.ac.in  student   \n",
       "1     2         APARNA SHARMA     1705231013@ietlucknow.ac.in  student   \n",
       "2     3            AMAN YADAV  2000520519002@ietlucknow.ac.in  student   \n",
       "3     4  Israrul Hasan Hashmi  2000520519003@ietlucknow.ac.in  student   \n",
       "4     5               UPEKSHA     1805251060@ietlucknow.ac.in  student   \n",
       "\n",
       "   College Roll Number Degree                                 Department  \\\n",
       "0         2.000520e+12  btech                     mechanical_engineering   \n",
       "1         1.705231e+09  btech  electronics_and_communication_engineering   \n",
       "2         2.000521e+12  btech                       chemical_engineering   \n",
       "3         2.000521e+12  btech                       chemical_engineering   \n",
       "4         1.805251e+09  btech                       chemical_engineering   \n",
       "\n",
       "  Study year   Exam Date                                       Course Name  \\\n",
       "0     year_1  2021-04-24                                 Rocket Propulsion   \n",
       "1     year_4  2021-03-21  Introduction to History of Architecture in India   \n",
       "2     year_2  2021-04-24                      Material and Energy Balances   \n",
       "3     year_2  2021-04-24                      Material and Energy Balances   \n",
       "4     year_3  2021-04-24                Aspects Of Biochemical Engineering   \n",
       "\n",
       "       Course id          State     City PWD status  SC/ST status  FDP status  \\\n",
       "0  ns_noc21_ae01  Uttar Pradesh  Lucknow         No         False       False   \n",
       "1  ns_noc21_ar04  Uttar Pradesh  Lucknow         No         False       False   \n",
       "2  ns_noc21_bt04  Uttar Pradesh   Kanpur         No         False       False   \n",
       "3  ns_noc21_bt04  Uttar Pradesh   Kanpur         No         False       False   \n",
       "4  ns_noc21_bt17  Uttar Pradesh  Lucknow         No          True       False   \n",
       "\n",
       "   Amount           Status  \n",
       "0    1000  payment_pending  \n",
       "1    1000   payment_failed  \n",
       "2    1000   payment_failed  \n",
       "3    1000   payment_failed  \n",
       "4     500    payment_draft  "
      ]
     },
     "execution_count": 16,
     "metadata": {},
     "output_type": "execute_result"
    }
   ],
   "source": [
    "df.head()"
   ]
  },
  {
   "cell_type": "code",
   "execution_count": 26,
   "metadata": {},
   "outputs": [
    {
     "data": {
      "text/plain": [
       "College Roll Number    27\n",
       "Degree                 23\n",
       "Department             23\n",
       "Study year             23\n",
       "Status                  0\n",
       "Amount                  0\n",
       "Name                    0\n",
       "Emailid                 0\n",
       "Role                    0\n",
       "Exam Date               0\n",
       "Course Name             0\n",
       "Course id               0\n",
       "State                   0\n",
       "City                    0\n",
       "PWD status              0\n",
       "SC/ST status            0\n",
       "FDP status              0\n",
       "S.no                    0\n",
       "dtype: int64"
      ]
     },
     "execution_count": 26,
     "metadata": {},
     "output_type": "execute_result"
    }
   ],
   "source": [
    "## Check Null VAlue\n",
    "df.isnull().sum().sort_values(ascending=False)"
   ]
  },
  {
   "cell_type": "code",
   "execution_count": 18,
   "metadata": {},
   "outputs": [
    {
     "name": "stdout",
     "output_type": "stream",
     "text": [
      "<class 'pandas.core.frame.DataFrame'>\n",
      "RangeIndex: 1263 entries, 0 to 1262\n",
      "Data columns (total 18 columns):\n",
      " #   Column               Non-Null Count  Dtype  \n",
      "---  ------               --------------  -----  \n",
      " 0   S.no                 1263 non-null   int64  \n",
      " 1   Name                 1263 non-null   object \n",
      " 2   Emailid              1263 non-null   object \n",
      " 3   Role                 1263 non-null   object \n",
      " 4   College Roll Number  1236 non-null   float64\n",
      " 5   Degree               1240 non-null   object \n",
      " 6   Department           1240 non-null   object \n",
      " 7   Study year           1240 non-null   object \n",
      " 8   Exam Date            1263 non-null   object \n",
      " 9   Course Name          1263 non-null   object \n",
      " 10  Course id            1263 non-null   object \n",
      " 11  State                1263 non-null   object \n",
      " 12  City                 1263 non-null   object \n",
      " 13  PWD status           1263 non-null   object \n",
      " 14  SC/ST status         1263 non-null   bool   \n",
      " 15  FDP status           1263 non-null   bool   \n",
      " 16  Amount               1263 non-null   int64  \n",
      " 17  Status               1263 non-null   object \n",
      "dtypes: bool(2), float64(1), int64(2), object(13)\n",
      "memory usage: 160.5+ KB\n"
     ]
    }
   ],
   "source": [
    "df.info()"
   ]
  },
  {
   "cell_type": "code",
   "execution_count": 19,
   "metadata": {},
   "outputs": [
    {
     "data": {
      "text/plain": [
       "<matplotlib.axes._subplots.AxesSubplot at 0x14862add6a0>"
      ]
     },
     "execution_count": 19,
     "metadata": {},
     "output_type": "execute_result"
    },
    {
     "data": {
      "image/png": "[encoded data removed]",
      "text/plain": [
       "<Figure size 432x288 with 2 Axes>"
      ]
     },
     "metadata": {
      "needs_background": "light"
     },
     "output_type": "display_data"
    }
   ],
   "source": [
    "sns.heatmap(df.isnull())"
   ]
  },
  {
   "cell_type": "code",
   "execution_count": 27,
   "metadata": {},
   "outputs": [],
   "source": [
    "# Fill NA Value\n",
    "df['College Roll Number'].fillna(0,inplace=True)"
   ]
  },
  {
   "cell_type": "code",
   "execution_count": 28,
   "metadata": {},
   "outputs": [],
   "source": [
    "df['Degree'].fillna('',inplace=True)"
   ]
  },
  {
   "cell_type": "code",
   "execution_count": 29,
   "metadata": {},
   "outputs": [],
   "source": [
    "df['Study year'].fillna(' ',inplace=True)"
   ]
  },
  {
   "cell_type": "code",
   "execution_count": 30,
   "metadata": {},
   "outputs": [],
   "source": [
    "df['Department'].fillna(' ',inplace=True)"
   ]
  },
  {
   "cell_type": "code",
   "execution_count": 31,
   "metadata": {},
   "outputs": [
    {
     "data": {
      "text/plain": [
       "<matplotlib.axes._subplots.AxesSubplot at 0x14862ff8730>"
      ]
     },
     "execution_count": 31,
     "metadata": {},
     "output_type": "execute_result"
    },
    {
     "data": {
      "image/png": "[encoded data removed]",
      "text/plain": [
       "<Figure size 432x288 with 2 Axes>"
      ]
     },
     "metadata": {
      "needs_background": "light"
     },
     "output_type": "display_data"
    }
   ],
   "source": [
    "sns.heatmap(df.isnull())\n",
    "# Now there is no null value"
   ]
  },
  {
   "cell_type": "code",
   "execution_count": 34,
   "metadata": {},
   "outputs": [],
   "source": [
    "# Unwanted column drop\n",
    "df.drop(columns=['Emailid','Role','College Roll Number','Course id','State','City','Amount'],axis=1,inplace=True)"
   ]
  },
  {
   "cell_type": "code",
   "execution_count": 35,
   "metadata": {},
   "outputs": [
    {
     "data": {
      "text/html": [
       "<div>\n",
       "<style scoped>\n",
       "    .dataframe tbody tr th:only-of-type {\n",
       "        vertical-align: middle;\n",
       "    }\n",
       "\n",
       "    .dataframe tbody tr th {\n",
       "        vertical-align: top;\n",
       "    }\n",
       "\n",
       "    .dataframe thead th {\n",
       "        text-align: right;\n",
       "    }\n",
       "</style>\n",
       "<table border=\"1\" class=\"dataframe\">\n",
       "  <thead>\n",
       "    <tr style=\"text-align: right;\">\n",
       "      <th></th>\n",
       "      <th>S.no</th>\n",
       "      <th>Name</th>\n",
       "      <th>Degree</th>\n",
       "      <th>Department</th>\n",
       "      <th>Study year</th>\n",
       "      <th>Exam Date</th>\n",
       "      <th>Course Name</th>\n",
       "      <th>PWD status</th>\n",
       "      <th>SC/ST status</th>\n",
       "      <th>FDP status</th>\n",
       "      <th>Status</th>\n",
       "    </tr>\n",
       "  </thead>\n",
       "  <tbody>\n",
       "    <tr>\n",
       "      <th>0</th>\n",
       "      <td>1</td>\n",
       "      <td>vinay krishna</td>\n",
       "      <td>btech</td>\n",
       "      <td>mechanical_engineering</td>\n",
       "      <td>year_1</td>\n",
       "      <td>2021-04-24</td>\n",
       "      <td>Rocket Propulsion</td>\n",
       "      <td>No</td>\n",
       "      <td>False</td>\n",
       "      <td>False</td>\n",
       "      <td>payment_pending</td>\n",
       "    </tr>\n",
       "    <tr>\n",
       "      <th>1</th>\n",
       "      <td>2</td>\n",
       "      <td>APARNA SHARMA</td>\n",
       "      <td>btech</td>\n",
       "      <td>electronics_and_communication_engineering</td>\n",
       "      <td>year_4</td>\n",
       "      <td>2021-03-21</td>\n",
       "      <td>Introduction to History of Architecture in India</td>\n",
       "      <td>No</td>\n",
       "      <td>False</td>\n",
       "      <td>False</td>\n",
       "      <td>payment_failed</td>\n",
       "    </tr>\n",
       "    <tr>\n",
       "      <th>2</th>\n",
       "      <td>3</td>\n",
       "      <td>AMAN YADAV</td>\n",
       "      <td>btech</td>\n",
       "      <td>chemical_engineering</td>\n",
       "      <td>year_2</td>\n",
       "      <td>2021-04-24</td>\n",
       "      <td>Material and Energy Balances</td>\n",
       "      <td>No</td>\n",
       "      <td>False</td>\n",
       "      <td>False</td>\n",
       "      <td>payment_failed</td>\n",
       "    </tr>\n",
       "    <tr>\n",
       "      <th>3</th>\n",
       "      <td>4</td>\n",
       "      <td>Israrul Hasan Hashmi</td>\n",
       "      <td>btech</td>\n",
       "      <td>chemical_engineering</td>\n",
       "      <td>year_2</td>\n",
       "      <td>2021-04-24</td>\n",
       "      <td>Material and Energy Balances</td>\n",
       "      <td>No</td>\n",
       "      <td>False</td>\n",
       "      <td>False</td>\n",
       "      <td>payment_failed</td>\n",
       "    </tr>\n",
       "    <tr>\n",
       "      <th>4</th>\n",
       "      <td>5</td>\n",
       "      <td>UPEKSHA</td>\n",
       "      <td>btech</td>\n",
       "      <td>chemical_engineering</td>\n",
       "      <td>year_3</td>\n",
       "      <td>2021-04-24</td>\n",
       "      <td>Aspects Of Biochemical Engineering</td>\n",
       "      <td>No</td>\n",
       "      <td>True</td>\n",
       "      <td>False</td>\n",
       "      <td>payment_draft</td>\n",
       "    </tr>\n",
       "  </tbody>\n",
       "</table>\n",
       "</div>"
      ],
      "text/plain": [
       "   S.no                  Name Degree  \\\n",
       "0     1         vinay krishna  btech   \n",
       "1     2         APARNA SHARMA  btech   \n",
       "2     3            AMAN YADAV  btech   \n",
       "3     4  Israrul Hasan Hashmi  btech   \n",
       "4     5               UPEKSHA  btech   \n",
       "\n",
       "                                  Department Study year   Exam Date  \\\n",
       "0                     mechanical_engineering     year_1  2021-04-24   \n",
       "1  electronics_and_communication_engineering     year_4  2021-03-21   \n",
       "2                       chemical_engineering     year_2  2021-04-24   \n",
       "3                       chemical_engineering     year_2  2021-04-24   \n",
       "4                       chemical_engineering     year_3  2021-04-24   \n",
       "\n",
       "                                        Course Name PWD status  SC/ST status  \\\n",
       "0                                 Rocket Propulsion         No         False   \n",
       "1  Introduction to History of Architecture in India         No         False   \n",
       "2                      Material and Energy Balances         No         False   \n",
       "3                      Material and Energy Balances         No         False   \n",
       "4                Aspects Of Biochemical Engineering         No          True   \n",
       "\n",
       "   FDP status           Status  \n",
       "0       False  payment_pending  \n",
       "1       False   payment_failed  \n",
       "2       False   payment_failed  \n",
       "3       False   payment_failed  \n",
       "4       False    payment_draft  "
      ]
     },
     "execution_count": 35,
     "metadata": {},
     "output_type": "execute_result"
    }
   ],
   "source": [
    "df.head()"
   ]
  },
  {
   "cell_type": "code",
   "execution_count": 53,
   "metadata": {},
   "outputs": [
    {
     "data": {
      "text/plain": [
       "(1263, 11)"
      ]
     },
     "execution_count": 53,
     "metadata": {},
     "output_type": "execute_result"
    }
   ],
   "source": [
    "df.shape"
   ]
  },
  {
   "cell_type": "code",
   "execution_count": 36,
   "metadata": {},
   "outputs": [
    {
     "data": {
      "text/plain": [
       "<matplotlib.axes._subplots.AxesSubplot at 0x148630fdf10>"
      ]
     },
     "execution_count": 36,
     "metadata": {},
     "output_type": "execute_result"
    },
    {
     "data": {
      "image/png": "[encoded data removed]",
      "text/plain": [
       "<Figure size 432x288 with 1 Axes>"
      ]
     },
     "metadata": {
      "needs_background": "light"
     },
     "output_type": "display_data"
    }
   ],
   "source": [
    "# Visyalize data by Degree\n",
    "sns.countplot(df['Degree'])"
   ]
  },
  {
   "cell_type": "code",
   "execution_count": null,
   "metadata": {},
   "outputs": [],
   "source": []
  },
  {
   "cell_type": "code",
   "execution_count": 56,
   "metadata": {},
   "outputs": [
    {
     "data": {
      "text/plain": [
       "mechanical_engineering                       336\n",
       "electrical_engineering                       152\n",
       "computer_science_and_engineering             149\n",
       "electronics_and_communication_engineering    139\n",
       "chemical_engineering                         138\n",
       "instrumentation_engineering                  120\n",
       "civil_engineering                            113\n",
       "information_technology                        70\n",
       "                                              23\n",
       "electronics_engineering                       20\n",
       "business administration                        2\n",
       "mechatronics_engineering                       1\n",
       "Name: Department, dtype: int64"
      ]
     },
     "execution_count": 56,
     "metadata": {},
     "output_type": "execute_result"
    },
    {
     "data": {
      "image/png": "[encoded data removed]",
      "text/plain": [
       "<Figure size 1800x864 with 1 Axes>"
      ]
     },
     "metadata": {
      "needs_background": "light"
     },
     "output_type": "display_data"
    }
   ],
   "source": [
    "plt.figure(figsize=(25,12))\n",
    "sns.countplot(df['Department'],hue=df['Study year'])\n",
    "df['Department'].value_counts()"
   ]
  },
  {
   "cell_type": "code",
   "execution_count": 63,
   "metadata": {},
   "outputs": [
    {
     "data": {
      "text/plain": [
       "Emotional Intelligence                                            187\n",
       "Enhancing Soft Skills and Personality                             185\n",
       "Speaking Effectively                                              148\n",
       "Introduction to Industry 4.0 and Industrial Internet of Things     83\n",
       "Introduction to Robotics                                           41\n",
       "                                                                 ... \n",
       "Fundamentals of Automotive Systems                                  1\n",
       "Principles of Industrial Engineering                                1\n",
       "Energy Resources, Economics and Environment                         1\n",
       "Introduction to Research                                            1\n",
       "Rocket Propulsion                                                   1\n",
       "Name: Course Name, Length: 135, dtype: int64"
      ]
     },
     "execution_count": 63,
     "metadata": {},
     "output_type": "execute_result"
    },
    {
     "data": {
      "image/png": "[encoded data removed]",
      "text/plain": [
       "<Figure size 1800x864 with 1 Axes>"
      ]
     },
     "metadata": {
      "needs_background": "light"
     },
     "output_type": "display_data"
    }
   ],
   "source": [
    "plt.figure(figsize=(25,12))\n",
    "sns.countplot(df['Course Name'])\n",
    "df['Course Name'].value_counts()"
   ]
  },
  {
   "cell_type": "code",
   "execution_count": 62,
   "metadata": {},
   "outputs": [
    {
     "data": {
      "text/plain": [
       "year_2    487\n",
       "year_4    274\n",
       "year_1    253\n",
       "year_3    226\n",
       "           23\n",
       "Name: Study year, dtype: int64"
      ]
     },
     "execution_count": 62,
     "metadata": {},
     "output_type": "execute_result"
    },
    {
     "data": {
      "image/png": "[encoded data removed]",
      "text/plain": [
       "<Figure size 432x288 with 1 Axes>"
      ]
     },
     "metadata": {
      "needs_background": "light"
     },
     "output_type": "display_data"
    }
   ],
   "source": [
    "## Check year wise NPTel enrollment\n",
    "sns.countplot(df['Study year'])\n",
    "df['Study year'].value_counts()"
   ]
  },
  {
   "cell_type": "code",
   "execution_count": null,
   "metadata": {},
   "outputs": [],
   "source": []
  }
 ],
 "metadata": {
  "kernelspec": {
   "display_name": "Python 3",
   "language": "python",
   "name": "python3"
  },
  "language_info": {
   "codemirror_mode": {
    "name": "ipython",
    "version": 3
   },
   "file_extension": ".py",
   "mimetype": "text/x-python",
   "name": "python",
   "nbconvert_exporter": "python",
   "pygments_lexer": "ipython3",
   "version": "3.8.3"
  }
 },
 "nbformat": 4,
 "nbformat_minor": 4
}
